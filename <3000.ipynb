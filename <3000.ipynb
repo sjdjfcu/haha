{
 "cells": [
  {
   "cell_type": "code",
   "execution_count": 1,
   "metadata": {},
   "outputs": [
    {
     "data": {
      "text/html": [
       "<style>\n",
       ".list-inline {list-style: none; margin:0; padding: 0}\n",
       ".list-inline>li {display: inline-block}\n",
       ".list-inline>li:not(:last-child)::after {content: \"\\00b7\"; padding: 0 .5ex}\n",
       "</style>\n",
       "<ol class=list-inline><li>1</li><li>1</li><li>1</li><li>3</li><li>5</li><li>9</li><li>17</li><li>31</li><li>57</li><li>105</li><li>193</li><li>355</li><li>653</li><li>1201</li><li>2209</li></ol>\n"
      ],
      "text/latex": [
       "\\begin{enumerate*}\n",
       "\\item 1\n",
       "\\item 1\n",
       "\\item 1\n",
       "\\item 3\n",
       "\\item 5\n",
       "\\item 9\n",
       "\\item 17\n",
       "\\item 31\n",
       "\\item 57\n",
       "\\item 105\n",
       "\\item 193\n",
       "\\item 355\n",
       "\\item 653\n",
       "\\item 1201\n",
       "\\item 2209\n",
       "\\end{enumerate*}\n"
      ],
      "text/markdown": [
       "1. 1\n",
       "2. 1\n",
       "3. 1\n",
       "4. 3\n",
       "5. 5\n",
       "6. 9\n",
       "7. 17\n",
       "8. 31\n",
       "9. 57\n",
       "10. 105\n",
       "11. 193\n",
       "12. 355\n",
       "13. 653\n",
       "14. 1201\n",
       "15. 2209\n",
       "\n",
       "\n"
      ],
      "text/plain": [
       " [1]    1    1    1    3    5    9   17   31   57  105  193  355  653 1201 2209"
      ]
     },
     "metadata": {},
     "output_type": "display_data"
    }
   ],
   "source": [
    "f=1;f[2]=f[3]=1;i=1;\n",
    "while(f[i]+f[i+1]+f[i+2]<3000){\n",
    "    f[i+3]=f[i]+f[i+1]+f[i+2];\n",
    "    i<-i+1;\n",
    "}\n",
    "f"
   ]
  },
  {
   "cell_type": "code",
   "execution_count": 2,
   "metadata": {},
   "outputs": [
    {
     "data": {
      "text/html": [
       "<style>\n",
       ".list-inline {list-style: none; margin:0; padding: 0}\n",
       ".list-inline>li {display: inline-block}\n",
       ".list-inline>li:not(:last-child)::after {content: \"\\00b7\"; padding: 0 .5ex}\n",
       "</style>\n",
       "<ol class=list-inline><li>1</li><li>1</li><li>1</li><li>3</li><li>5</li><li>9</li><li>17</li><li>31</li><li>57</li><li>105</li><li>193</li><li>355</li><li>653</li><li>1201</li><li>2209</li></ol>\n"
      ],
      "text/latex": [
       "\\begin{enumerate*}\n",
       "\\item 1\n",
       "\\item 1\n",
       "\\item 1\n",
       "\\item 3\n",
       "\\item 5\n",
       "\\item 9\n",
       "\\item 17\n",
       "\\item 31\n",
       "\\item 57\n",
       "\\item 105\n",
       "\\item 193\n",
       "\\item 355\n",
       "\\item 653\n",
       "\\item 1201\n",
       "\\item 2209\n",
       "\\end{enumerate*}\n"
      ],
      "text/markdown": [
       "1. 1\n",
       "2. 1\n",
       "3. 1\n",
       "4. 3\n",
       "5. 5\n",
       "6. 9\n",
       "7. 17\n",
       "8. 31\n",
       "9. 57\n",
       "10. 105\n",
       "11. 193\n",
       "12. 355\n",
       "13. 653\n",
       "14. 1201\n",
       "15. 2209\n",
       "\n",
       "\n"
      ],
      "text/plain": [
       " [1]    1    1    1    3    5    9   17   31   57  105  193  355  653 1201 2209"
      ]
     },
     "metadata": {},
     "output_type": "display_data"
    }
   ],
   "source": [
    "f=1;f[2]=f[3]=1;i=1;\n",
    "repeat{\n",
    "    f[i+3]=f[i]+f[i+1]+f[i+2];\n",
    "    i<-i+1;\n",
    "    if(f[i]+f[i+1]+f[i+2]>=3000)break;\n",
    "}\n",
    "f"
   ]
  }
 ],
 "metadata": {
  "environment": {
   "name": "r-cpu.3-6.m59",
   "type": "gcloud",
   "uri": "gcr.io/deeplearning-platform-release/r-cpu.3-6:m59"
  },
  "kernelspec": {
   "display_name": "R",
   "language": "R",
   "name": "ir"
  },
  "language_info": {
   "codemirror_mode": "r",
   "file_extension": ".r",
   "mimetype": "text/x-r-source",
   "name": "R",
   "pygments_lexer": "r",
   "version": "3.5.2"
  }
 },
 "nbformat": 4,
 "nbformat_minor": 4
}
