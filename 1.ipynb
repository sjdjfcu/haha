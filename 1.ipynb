{
 "cells": [
  {
   "cell_type": "code",
   "execution_count": 1,
   "metadata": {},
   "outputs": [
    {
     "data": {
      "text/html": [
       "<style>\n",
       ".list-inline {list-style: none; margin:0; padding: 0}\n",
       ".list-inline>li {display: inline-block}\n",
       ".list-inline>li:not(:last-child)::after {content: \"\\00b7\"; padding: 0 .5ex}\n",
       "</style>\n",
       "<ol class=list-inline><li>3</li><li>-1.5</li><li>0.000136199789287455</li></ol>\n"
      ],
      "text/latex": [
       "\\begin{enumerate*}\n",
       "\\item 3\n",
       "\\item -1.5\n",
       "\\item 0.000136199789287455\n",
       "\\end{enumerate*}\n"
      ],
      "text/markdown": [
       "1. 3\n",
       "2. -1.5\n",
       "3. 0.000136199789287455\n",
       "\n",
       "\n"
      ],
      "text/plain": [
       "[1]  3.0000000000 -1.5000000000  0.0001361998"
      ]
     },
     "metadata": {},
     "output_type": "display_data"
    }
   ],
   "source": [
    "x<-c(3, -1.5, 3*exp(-10))\n",
    "x"
   ]
  },
  {
   "cell_type": "code",
   "execution_count": 2,
   "metadata": {},
   "outputs": [
    {
     "data": {
      "text/html": [
       "<style>\n",
       ".list-inline {list-style: none; margin:0; padding: 0}\n",
       ".list-inline>li {display: inline-block}\n",
       ".list-inline>li:not(:last-child)::after {content: \"\\00b7\"; padding: 0 .5ex}\n",
       "</style>\n",
       "<ol class=list-inline><li>3</li><li>6</li><li>9</li><li>12</li><li>15</li><li>18</li><li>21</li><li>24</li><li>27</li><li>30</li><li>33</li><li>36</li><li>39</li><li>42</li><li>45</li><li>48</li><li>51</li><li>54</li><li>57</li><li>60</li><li>63</li><li>66</li><li>69</li><li>72</li><li>75</li><li>78</li><li>81</li><li>84</li><li>87</li><li>90</li><li>93</li><li>96</li><li>99</li><li>102</li><li>105</li><li>108</li><li>111</li><li>114</li><li>117</li><li>120</li><li>123</li><li>126</li><li>129</li><li>132</li><li>135</li><li>138</li><li>141</li><li>144</li><li>147</li><li>150</li><li>153</li><li>156</li><li>159</li><li>162</li><li>165</li><li>168</li><li>171</li><li>174</li><li>177</li><li>180</li><li>183</li><li>186</li><li>189</li><li>192</li><li>195</li><li>198</li><li>201</li><li>204</li><li>207</li><li>210</li><li>213</li><li>216</li><li>219</li><li>222</li><li>225</li><li>228</li><li>231</li><li>234</li><li>237</li><li>240</li><li>243</li><li>246</li><li>249</li><li>252</li><li>255</li><li>258</li><li>261</li><li>264</li><li>267</li><li>270</li><li>273</li><li>276</li><li>279</li><li>282</li><li>285</li><li>288</li><li>291</li><li>294</li><li>297</li><li>300</li></ol>\n"
      ],
      "text/latex": [
       "\\begin{enumerate*}\n",
       "\\item 3\n",
       "\\item 6\n",
       "\\item 9\n",
       "\\item 12\n",
       "\\item 15\n",
       "\\item 18\n",
       "\\item 21\n",
       "\\item 24\n",
       "\\item 27\n",
       "\\item 30\n",
       "\\item 33\n",
       "\\item 36\n",
       "\\item 39\n",
       "\\item 42\n",
       "\\item 45\n",
       "\\item 48\n",
       "\\item 51\n",
       "\\item 54\n",
       "\\item 57\n",
       "\\item 60\n",
       "\\item 63\n",
       "\\item 66\n",
       "\\item 69\n",
       "\\item 72\n",
       "\\item 75\n",
       "\\item 78\n",
       "\\item 81\n",
       "\\item 84\n",
       "\\item 87\n",
       "\\item 90\n",
       "\\item 93\n",
       "\\item 96\n",
       "\\item 99\n",
       "\\item 102\n",
       "\\item 105\n",
       "\\item 108\n",
       "\\item 111\n",
       "\\item 114\n",
       "\\item 117\n",
       "\\item 120\n",
       "\\item 123\n",
       "\\item 126\n",
       "\\item 129\n",
       "\\item 132\n",
       "\\item 135\n",
       "\\item 138\n",
       "\\item 141\n",
       "\\item 144\n",
       "\\item 147\n",
       "\\item 150\n",
       "\\item 153\n",
       "\\item 156\n",
       "\\item 159\n",
       "\\item 162\n",
       "\\item 165\n",
       "\\item 168\n",
       "\\item 171\n",
       "\\item 174\n",
       "\\item 177\n",
       "\\item 180\n",
       "\\item 183\n",
       "\\item 186\n",
       "\\item 189\n",
       "\\item 192\n",
       "\\item 195\n",
       "\\item 198\n",
       "\\item 201\n",
       "\\item 204\n",
       "\\item 207\n",
       "\\item 210\n",
       "\\item 213\n",
       "\\item 216\n",
       "\\item 219\n",
       "\\item 222\n",
       "\\item 225\n",
       "\\item 228\n",
       "\\item 231\n",
       "\\item 234\n",
       "\\item 237\n",
       "\\item 240\n",
       "\\item 243\n",
       "\\item 246\n",
       "\\item 249\n",
       "\\item 252\n",
       "\\item 255\n",
       "\\item 258\n",
       "\\item 261\n",
       "\\item 264\n",
       "\\item 267\n",
       "\\item 270\n",
       "\\item 273\n",
       "\\item 276\n",
       "\\item 279\n",
       "\\item 282\n",
       "\\item 285\n",
       "\\item 288\n",
       "\\item 291\n",
       "\\item 294\n",
       "\\item 297\n",
       "\\item 300\n",
       "\\end{enumerate*}\n"
      ],
      "text/markdown": [
       "1. 3\n",
       "2. 6\n",
       "3. 9\n",
       "4. 12\n",
       "5. 15\n",
       "6. 18\n",
       "7. 21\n",
       "8. 24\n",
       "9. 27\n",
       "10. 30\n",
       "11. 33\n",
       "12. 36\n",
       "13. 39\n",
       "14. 42\n",
       "15. 45\n",
       "16. 48\n",
       "17. 51\n",
       "18. 54\n",
       "19. 57\n",
       "20. 60\n",
       "21. 63\n",
       "22. 66\n",
       "23. 69\n",
       "24. 72\n",
       "25. 75\n",
       "26. 78\n",
       "27. 81\n",
       "28. 84\n",
       "29. 87\n",
       "30. 90\n",
       "31. 93\n",
       "32. 96\n",
       "33. 99\n",
       "34. 102\n",
       "35. 105\n",
       "36. 108\n",
       "37. 111\n",
       "38. 114\n",
       "39. 117\n",
       "40. 120\n",
       "41. 123\n",
       "42. 126\n",
       "43. 129\n",
       "44. 132\n",
       "45. 135\n",
       "46. 138\n",
       "47. 141\n",
       "48. 144\n",
       "49. 147\n",
       "50. 150\n",
       "51. 153\n",
       "52. 156\n",
       "53. 159\n",
       "54. 162\n",
       "55. 165\n",
       "56. 168\n",
       "57. 171\n",
       "58. 174\n",
       "59. 177\n",
       "60. 180\n",
       "61. 183\n",
       "62. 186\n",
       "63. 189\n",
       "64. 192\n",
       "65. 195\n",
       "66. 198\n",
       "67. 201\n",
       "68. 204\n",
       "69. 207\n",
       "70. 210\n",
       "71. 213\n",
       "72. 216\n",
       "73. 219\n",
       "74. 222\n",
       "75. 225\n",
       "76. 228\n",
       "77. 231\n",
       "78. 234\n",
       "79. 237\n",
       "80. 240\n",
       "81. 243\n",
       "82. 246\n",
       "83. 249\n",
       "84. 252\n",
       "85. 255\n",
       "86. 258\n",
       "87. 261\n",
       "88. 264\n",
       "89. 267\n",
       "90. 270\n",
       "91. 273\n",
       "92. 276\n",
       "93. 279\n",
       "94. 282\n",
       "95. 285\n",
       "96. 288\n",
       "97. 291\n",
       "98. 294\n",
       "99. 297\n",
       "100. 300\n",
       "\n",
       "\n"
      ],
      "text/plain": [
       "  [1]   3   6   9  12  15  18  21  24  27  30  33  36  39  42  45  48  51  54\n",
       " [19]  57  60  63  66  69  72  75  78  81  84  87  90  93  96  99 102 105 108\n",
       " [37] 111 114 117 120 123 126 129 132 135 138 141 144 147 150 153 156 159 162\n",
       " [55] 165 168 171 174 177 180 183 186 189 192 195 198 201 204 207 210 213 216\n",
       " [73] 219 222 225 228 231 234 237 240 243 246 249 252 255 258 261 264 267 270\n",
       " [91] 273 276 279 282 285 288 291 294 297 300"
      ]
     },
     "metadata": {},
     "output_type": "display_data"
    }
   ],
   "source": [
    "seq(from=3,by=3,length=100)"
   ]
  },
  {
   "cell_type": "code",
   "execution_count": 3,
   "metadata": {},
   "outputs": [
    {
     "data": {
      "text/html": [
       "<style>\n",
       ".list-inline {list-style: none; margin:0; padding: 0}\n",
       ".list-inline>li {display: inline-block}\n",
       ".list-inline>li:not(:last-child)::after {content: \"\\00b7\"; padding: 0 .5ex}\n",
       "</style>\n",
       "<ol class=list-inline><li>0</li><li>2</li><li>0</li><li>2</li><li>0</li><li>2</li><li>0</li><li>2</li><li>0</li><li>2</li><li>0</li><li>2</li><li>0</li><li>2</li><li>0</li><li>2</li><li>0</li><li>2</li><li>0</li><li>2</li></ol>\n"
      ],
      "text/latex": [
       "\\begin{enumerate*}\n",
       "\\item 0\n",
       "\\item 2\n",
       "\\item 0\n",
       "\\item 2\n",
       "\\item 0\n",
       "\\item 2\n",
       "\\item 0\n",
       "\\item 2\n",
       "\\item 0\n",
       "\\item 2\n",
       "\\item 0\n",
       "\\item 2\n",
       "\\item 0\n",
       "\\item 2\n",
       "\\item 0\n",
       "\\item 2\n",
       "\\item 0\n",
       "\\item 2\n",
       "\\item 0\n",
       "\\item 2\n",
       "\\end{enumerate*}\n"
      ],
      "text/markdown": [
       "1. 0\n",
       "2. 2\n",
       "3. 0\n",
       "4. 2\n",
       "5. 0\n",
       "6. 2\n",
       "7. 0\n",
       "8. 2\n",
       "9. 0\n",
       "10. 2\n",
       "11. 0\n",
       "12. 2\n",
       "13. 0\n",
       "14. 2\n",
       "15. 0\n",
       "16. 2\n",
       "17. 0\n",
       "18. 2\n",
       "19. 0\n",
       "20. 2\n",
       "\n",
       "\n"
      ],
      "text/plain": [
       " [1] 0 2 0 2 0 2 0 2 0 2 0 2 0 2 0 2 0 2 0 2"
      ]
     },
     "metadata": {},
     "output_type": "display_data"
    }
   ],
   "source": [
    "rep(c(0,2),10)"
   ]
  },
  {
   "cell_type": "code",
   "execution_count": 4,
   "metadata": {},
   "outputs": [
    {
     "data": {
      "text/html": [
       "0.000136199789287455"
      ],
      "text/latex": [
       "0.000136199789287455"
      ],
      "text/markdown": [
       "0.000136199789287455"
      ],
      "text/plain": [
       "[1] 0.0001361998"
      ]
     },
     "metadata": {},
     "output_type": "display_data"
    }
   ],
   "source": [
    "x[(x>=0)&(x<1)]"
   ]
  },
  {
   "cell_type": "code",
   "execution_count": 5,
   "metadata": {},
   "outputs": [],
   "source": [
    "x[]=0"
   ]
  },
  {
   "cell_type": "code",
   "execution_count": 6,
   "metadata": {},
   "outputs": [
    {
     "data": {
      "text/html": [
       "<style>\n",
       ".list-inline {list-style: none; margin:0; padding: 0}\n",
       ".list-inline>li {display: inline-block}\n",
       ".list-inline>li:not(:last-child)::after {content: \"\\00b7\"; padding: 0 .5ex}\n",
       "</style>\n",
       "<ol class=list-inline><li>'1月份'</li><li>'2月份'</li><li>'3月份'</li><li>'4月份'</li><li>'5月份'</li><li>'6月份'</li><li>'7月份'</li><li>'8月份'</li><li>'9月份'</li><li>'10月份'</li><li>'11月份'</li><li>'12月份'</li></ol>\n"
      ],
      "text/latex": [
       "\\begin{enumerate*}\n",
       "\\item '1月份'\n",
       "\\item '2月份'\n",
       "\\item '3月份'\n",
       "\\item '4月份'\n",
       "\\item '5月份'\n",
       "\\item '6月份'\n",
       "\\item '7月份'\n",
       "\\item '8月份'\n",
       "\\item '9月份'\n",
       "\\item '10月份'\n",
       "\\item '11月份'\n",
       "\\item '12月份'\n",
       "\\end{enumerate*}\n"
      ],
      "text/markdown": [
       "1. '1月份'\n",
       "2. '2月份'\n",
       "3. '3月份'\n",
       "4. '4月份'\n",
       "5. '5月份'\n",
       "6. '6月份'\n",
       "7. '7月份'\n",
       "8. '8月份'\n",
       "9. '9月份'\n",
       "10. '10月份'\n",
       "11. '11月份'\n",
       "12. '12月份'\n",
       "\n",
       "\n"
      ],
      "text/plain": [
       " [1] \"1月份\"  \"2月份\"  \"3月份\"  \"4月份\"  \"5月份\"  \"6月份\"  \"7月份\"  \"8月份\" \n",
       " [9] \"9月份\"  \"10月份\" \"11月份\" \"12月份\""
      ]
     },
     "metadata": {},
     "output_type": "display_data"
    }
   ],
   "source": [
    "paste(1:12,\"月份\",sep=\"\")"
   ]
  }
 ],
 "metadata": {
  "environment": {
   "name": "r-cpu.3-6.m56",
   "type": "gcloud",
   "uri": "gcr.io/deeplearning-platform-release/r-cpu.3-6:m56"
  },
  "kernelspec": {
   "display_name": "R",
   "language": "R",
   "name": "ir"
  },
  "language_info": {
   "codemirror_mode": "r",
   "file_extension": ".r",
   "mimetype": "text/x-r-source",
   "name": "R",
   "pygments_lexer": "r",
   "version": "3.6.3"
  }
 },
 "nbformat": 4,
 "nbformat_minor": 4
}
