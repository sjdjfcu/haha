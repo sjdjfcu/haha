{
 "cells": [],
 "metadata": {
  "environment": {
   "name": "r-cpu.3-6.m59",
   "type": "gcloud",
   "uri": "gcr.io/deeplearning-platform-release/r-cpu.3-6:m59"
  }
 },
 "nbformat": 4,
 "nbformat_minor": 4
}
