{
 "cells": [
  {
   "cell_type": "code",
   "execution_count": 1,
   "metadata": {},
   "outputs": [
    {
     "data": {
      "text/html": [
       "8"
      ],
      "text/latex": [
       "8"
      ],
      "text/markdown": [
       "8"
      ],
      "text/plain": [
       "[1] 8"
      ]
     },
     "metadata": {},
     "output_type": "display_data"
    },
    {
     "data": {
      "text/html": [
       "4"
      ],
      "text/latex": [
       "4"
      ],
      "text/markdown": [
       "4"
      ],
      "text/plain": [
       "[1] 4"
      ]
     },
     "metadata": {},
     "output_type": "display_data"
    },
    {
     "data": {
      "text/html": [
       "25"
      ],
      "text/latex": [
       "25"
      ],
      "text/markdown": [
       "25"
      ],
      "text/plain": [
       "[1] 25"
      ]
     },
     "metadata": {},
     "output_type": "display_data"
    }
   ],
   "source": [
    "A=matrix(floor(rnorm(100,0,4)),4,25)\n",
    "max(A)\n",
    "max=A[1,1]\n",
    "for (i in 1:4){\n",
    "    for (j in 1:25){\n",
    "        if(A[i,j]>max)\n",
    "        max=A[i,j]\n",
    "    }\n",
    "}\n",
    "i\n",
    "j"
   ]
  },
  {
   "cell_type": "code",
   "execution_count": 2,
   "metadata": {},
   "outputs": [
    {
     "data": {
      "text/html": [
       "<table>\n",
       "<caption>A matrix: 4 × 25 of type dbl</caption>\n",
       "<tbody>\n",
       "\t<tr><td>0</td><td> 1</td><td>-2</td><td> 1</td><td>5.0</td><td> 8</td><td>3</td><td> 5.0</td><td> 4</td><td> 0</td><td>⋯</td><td>-7</td><td>-8</td><td>3</td><td>-1</td><td> 2</td><td> 6</td><td>-4</td><td>-7</td><td> 6</td><td>-5</td></tr>\n",
       "\t<tr><td>3</td><td>-4</td><td> 2</td><td>-1</td><td>1.5</td><td>-3</td><td>7</td><td>-8.0</td><td> 5</td><td>-2</td><td>⋯</td><td>12</td><td>-9</td><td>0</td><td>-3</td><td>-5</td><td>-3</td><td> 5</td><td> 0</td><td> 7</td><td>-1</td></tr>\n",
       "\t<tr><td>3</td><td> 1</td><td> 8</td><td> 1</td><td>0.0</td><td> 1</td><td>2</td><td>-3.0</td><td> 2</td><td> 4</td><td>⋯</td><td>-1</td><td>-6</td><td>4</td><td> 0</td><td> 0</td><td> 0</td><td>-9</td><td>-5</td><td>-5</td><td> 6</td></tr>\n",
       "\t<tr><td>1</td><td>-3</td><td> 3</td><td> 0</td><td>1.0</td><td> 0</td><td>4</td><td>-1.5</td><td>-2</td><td> 4</td><td>⋯</td><td>-6</td><td> 0</td><td>0</td><td> 2</td><td>-1</td><td> 5</td><td>-1</td><td> 5</td><td>-2</td><td>-5</td></tr>\n",
       "</tbody>\n",
       "</table>\n"
      ],
      "text/latex": [
       "A matrix: 4 × 25 of type dbl\n",
       "\\begin{tabular}{lllllllllllllllllllll}\n",
       "\t 0 &  1 & -2 &  1 & 5.0 &  8 & 3 &  5.0 &  4 &  0 & ⋯ & -7 & -8 & 3 & -1 &  2 &  6 & -4 & -7 &  6 & -5\\\\\n",
       "\t 3 & -4 &  2 & -1 & 1.5 & -3 & 7 & -8.0 &  5 & -2 & ⋯ & 12 & -9 & 0 & -3 & -5 & -3 &  5 &  0 &  7 & -1\\\\\n",
       "\t 3 &  1 &  8 &  1 & 0.0 &  1 & 2 & -3.0 &  2 &  4 & ⋯ & -1 & -6 & 4 &  0 &  0 &  0 & -9 & -5 & -5 &  6\\\\\n",
       "\t 1 & -3 &  3 &  0 & 1.0 &  0 & 4 & -1.5 & -2 &  4 & ⋯ & -6 &  0 & 0 &  2 & -1 &  5 & -1 &  5 & -2 & -5\\\\\n",
       "\\end{tabular}\n"
      ],
      "text/markdown": [
       "\n",
       "A matrix: 4 × 25 of type dbl\n",
       "\n",
       "| 0 |  1 | -2 |  1 | 5.0 |  8 | 3 |  5.0 |  4 |  0 | ⋯ | -7 | -8 | 3 | -1 |  2 |  6 | -4 | -7 |  6 | -5 |\n",
       "| 3 | -4 |  2 | -1 | 1.5 | -3 | 7 | -8.0 |  5 | -2 | ⋯ | 12 | -9 | 0 | -3 | -5 | -3 |  5 |  0 |  7 | -1 |\n",
       "| 3 |  1 |  8 |  1 | 0.0 |  1 | 2 | -3.0 |  2 |  4 | ⋯ | -1 | -6 | 4 |  0 |  0 |  0 | -9 | -5 | -5 |  6 |\n",
       "| 1 | -3 |  3 |  0 | 1.0 |  0 | 4 | -1.5 | -2 |  4 | ⋯ | -6 |  0 | 0 |  2 | -1 |  5 | -1 |  5 | -2 | -5 |\n",
       "\n"
      ],
      "text/plain": [
       "     [,1] [,2] [,3] [,4] [,5] [,6] [,7] [,8] [,9] [,10] [,11] [,12] [,13] [,14]\n",
       "[1,] 0     1   -2    1   5.0   8   3     5.0  4    0    ⋯     -7    -8    3    \n",
       "[2,] 3    -4    2   -1   1.5  -3   7    -8.0  5   -2    ⋯     12    -9    0    \n",
       "[3,] 3     1    8    1   0.0   1   2    -3.0  2    4    ⋯     -1    -6    4    \n",
       "[4,] 1    -3    3    0   1.0   0   4    -1.5 -2    4    ⋯     -6     0    0    \n",
       "     [,15] [,16] [,17] [,18] [,19] [,20] [,21]\n",
       "[1,] -1     2     6    -4    -7     6    -5   \n",
       "[2,] -3    -5    -3     5     0     7    -1   \n",
       "[3,]  0     0     0    -9    -5    -5     6   \n",
       "[4,]  2    -1     5    -1     5    -2    -5   "
      ]
     },
     "metadata": {},
     "output_type": "display_data"
    }
   ],
   "source": [
    "A=matrix(floor(rnorm(100,0,4)),4,25)\n",
    "A[2,5]=0;A[4,8]=0;A[3,15]=0\n",
    "b=apply(A,2,mean)\n",
    "A[2,5]=b[5];A[4,8]=b[8];A[3,15]=b[15]\n",
    "A"
   ]
  }
 ],
 "metadata": {
  "environment": {
   "name": "r-cpu.3-6.m59",
   "type": "gcloud",
   "uri": "gcr.io/deeplearning-platform-release/r-cpu.3-6:m59"
  },
  "kernelspec": {
   "display_name": "R",
   "language": "R",
   "name": "ir"
  },
  "language_info": {
   "codemirror_mode": "r",
   "file_extension": ".r",
   "mimetype": "text/x-r-source",
   "name": "R",
   "pygments_lexer": "r",
   "version": "3.5.2"
  }
 },
 "nbformat": 4,
 "nbformat_minor": 4
}
