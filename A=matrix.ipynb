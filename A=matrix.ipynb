{
 "cells": [
  {
   "cell_type": "code",
   "execution_count": 1,
   "metadata": {},
   "outputs": [
    {
     "data": {
      "text/html": [
       "8"
      ],
      "text/latex": [
       "8"
      ],
      "text/markdown": [
       "8"
      ],
      "text/plain": [
       "[1] 8"
      ]
     },
     "metadata": {},
     "output_type": "display_data"
    },
    {
     "name": "stdout",
     "output_type": "stream",
     "text": [
      "1 16"
     ]
    }
   ],
   "source": [
    "A=matrix(floor(rnorm(100,0,4)),4,25)\n",
    "index.max<-numeric(4)\n",
    "for(i in 1:4){\n",
    "    index.max[i]=max(A[i,])\n",
    "}\n",
    "i=which.max(index.max)\n",
    "max(A)\n",
    "cat(i,which.max(A[i,]))"
   ]
  },
  {
   "cell_type": "code",
   "execution_count": 2,
   "metadata": {},
   "outputs": [
    {
     "data": {
      "text/html": [
       "<table>\n",
       "<caption>A matrix: 4 × 25 of type dbl</caption>\n",
       "<tbody>\n",
       "\t<tr><td> -2</td><td> 1</td><td>-3</td><td> 2</td><td> 3</td><td> 8</td><td>-5</td><td>-3</td><td>-9</td><td>-2</td><td>⋯</td><td> 0</td><td>-6</td><td> 2</td><td>-1</td><td>-2</td><td>-1</td><td>-2</td><td> 5</td><td> 4</td><td> 3</td></tr>\n",
       "\t<tr><td>  0</td><td>-2</td><td> 6</td><td> 1</td><td>-1</td><td> 1</td><td>-7</td><td> 0</td><td> 1</td><td>-7</td><td>⋯</td><td>-4</td><td>-7</td><td> 4</td><td>-6</td><td>-3</td><td>-5</td><td>-2</td><td>-1</td><td>-2</td><td> 3</td></tr>\n",
       "\t<tr><td>-12</td><td>-1</td><td>-8</td><td>-5</td><td>-3</td><td> 2</td><td> 0</td><td> 3</td><td> 6</td><td> 3</td><td>⋯</td><td> 2</td><td> 0</td><td> 7</td><td>-3</td><td>-3</td><td> 4</td><td>-7</td><td> 5</td><td>-5</td><td>-5</td></tr>\n",
       "\t<tr><td>  0</td><td> 2</td><td>-4</td><td> 0</td><td>-4</td><td>-3</td><td>-1</td><td> 0</td><td>-6</td><td>-3</td><td>⋯</td><td> 1</td><td>-8</td><td>-3</td><td> 1</td><td> 0</td><td>-2</td><td> 3</td><td> 3</td><td>-2</td><td>-2</td></tr>\n",
       "</tbody>\n",
       "</table>\n"
      ],
      "text/latex": [
       "A matrix: 4 × 25 of type dbl\n",
       "\\begin{tabular}{lllllllllllllllllllll}\n",
       "\t  -2 &  1 & -3 &  2 &  3 &  8 & -5 & -3 & -9 & -2 & ⋯ &  0 & -6 &  2 & -1 & -2 & -1 & -2 &  5 &  4 &  3\\\\\n",
       "\t   0 & -2 &  6 &  1 & -1 &  1 & -7 &  0 &  1 & -7 & ⋯ & -4 & -7 &  4 & -6 & -3 & -5 & -2 & -1 & -2 &  3\\\\\n",
       "\t -12 & -1 & -8 & -5 & -3 &  2 &  0 &  3 &  6 &  3 & ⋯ &  2 &  0 &  7 & -3 & -3 &  4 & -7 &  5 & -5 & -5\\\\\n",
       "\t   0 &  2 & -4 &  0 & -4 & -3 & -1 &  0 & -6 & -3 & ⋯ &  1 & -8 & -3 &  1 &  0 & -2 &  3 &  3 & -2 & -2\\\\\n",
       "\\end{tabular}\n"
      ],
      "text/markdown": [
       "\n",
       "A matrix: 4 × 25 of type dbl\n",
       "\n",
       "|  -2 |  1 | -3 |  2 |  3 |  8 | -5 | -3 | -9 | -2 | ⋯ |  0 | -6 |  2 | -1 | -2 | -1 | -2 |  5 |  4 |  3 |\n",
       "|   0 | -2 |  6 |  1 | -1 |  1 | -7 |  0 |  1 | -7 | ⋯ | -4 | -7 |  4 | -6 | -3 | -5 | -2 | -1 | -2 |  3 |\n",
       "| -12 | -1 | -8 | -5 | -3 |  2 |  0 |  3 |  6 |  3 | ⋯ |  2 |  0 |  7 | -3 | -3 |  4 | -7 |  5 | -5 | -5 |\n",
       "|   0 |  2 | -4 |  0 | -4 | -3 | -1 |  0 | -6 | -3 | ⋯ |  1 | -8 | -3 |  1 |  0 | -2 |  3 |  3 | -2 | -2 |\n",
       "\n"
      ],
      "text/plain": [
       "     [,1] [,2] [,3] [,4] [,5] [,6] [,7] [,8] [,9] [,10] [,11] [,12] [,13] [,14]\n",
       "[1,]  -2   1   -3    2    3    8   -5   -3   -9   -2    ⋯      0    -6     2   \n",
       "[2,]   0  -2    6    1   -1    1   -7    0    1   -7    ⋯     -4    -7     4   \n",
       "[3,] -12  -1   -8   -5   -3    2    0    3    6    3    ⋯      2     0     7   \n",
       "[4,]   0   2   -4    0   -4   -3   -1    0   -6   -3    ⋯      1    -8    -3   \n",
       "     [,15] [,16] [,17] [,18] [,19] [,20] [,21]\n",
       "[1,] -1    -2    -1    -2     5     4     3   \n",
       "[2,] -6    -3    -5    -2    -1    -2     3   \n",
       "[3,] -3    -3     4    -7     5    -5    -5   \n",
       "[4,]  1     0    -2     3     3    -2    -2   "
      ]
     },
     "metadata": {},
     "output_type": "display_data"
    }
   ],
   "source": [
    "A=matrix(floor(rnorm(100,0,4)),4,25)\n",
    "A[2,5]=0;A[4,8]=0;A[3,15]=0\n",
    "b=apply(A,2,mean)\n",
    "A[2,5]=b[5];A[4,8]=b[8];A[3,15]=b[15]\n",
    "A"
   ]
  }
 ],
 "metadata": {
  "environment": {
   "name": "r-cpu.3-6.m59",
   "type": "gcloud",
   "uri": "gcr.io/deeplearning-platform-release/r-cpu.3-6:m59"
  },
  "kernelspec": {
   "display_name": "R",
   "language": "R",
   "name": "ir"
  },
  "language_info": {
   "codemirror_mode": "r",
   "file_extension": ".r",
   "mimetype": "text/x-r-source",
   "name": "R",
   "pygments_lexer": "r",
   "version": "3.5.2"
  }
 },
 "nbformat": 4,
 "nbformat_minor": 4
}
